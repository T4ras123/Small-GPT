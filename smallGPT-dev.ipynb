{
 "cells": [
  {
   "cell_type": "code",
   "execution_count": 28,
   "metadata": {},
   "outputs": [],
   "source": [
    "with open(\"input.txt\", 'r', encoding='utf-8') as f:\n",
    "    text = f.read()"
   ]
  },
  {
   "cell_type": "code",
   "execution_count": 29,
   "metadata": {},
   "outputs": [
    {
     "name": "stdout",
     "output_type": "stream",
     "text": [
      "1115394 65\n"
     ]
    }
   ],
   "source": [
    "print(len(text), len(set(text)))"
   ]
  },
  {
   "cell_type": "code",
   "execution_count": 30,
   "metadata": {},
   "outputs": [
    {
     "name": "stdout",
     "output_type": "stream",
     "text": [
      "\n",
      " !$&',-.3:;?ABCDEFGHIJKLMNOPQRSTUVWXYZabcdefghijklmnopqrstuvwxyz\n",
      "65\n"
     ]
    }
   ],
   "source": [
    "chars = sorted(list(set(text)))\n",
    "vocab_size=len(chars)\n",
    "print(''.join(chars))\n",
    "print(vocab_size)"
   ]
  },
  {
   "cell_type": "code",
   "execution_count": 31,
   "metadata": {},
   "outputs": [
    {
     "name": "stdout",
     "output_type": "stream",
     "text": [
      "[54, 53, 53, 56] poor\n"
     ]
    }
   ],
   "source": [
    "itos = {i:char for i,char in enumerate(chars)}\n",
    "stoi = {char:i for i, char in enumerate(chars)}\n",
    "encode = lambda x: [stoi[char] for char in list(x)]\n",
    "decode = lambda x: ''.join([itos[num] for num in list(x)])\n",
    "\n",
    "print(encode('poor'), decode(encode(\"poor\")))"
   ]
  },
  {
   "cell_type": "code",
   "execution_count": 32,
   "metadata": {},
   "outputs": [
    {
     "name": "stdout",
     "output_type": "stream",
     "text": [
      "torch.Size([1115394]) torch.int64\n"
     ]
    }
   ],
   "source": [
    "import torch\n",
    "data = torch.tensor(encode(text), dtype=torch.long)\n",
    "print(data.shape, data.dtype)"
   ]
  },
  {
   "cell_type": "code",
   "execution_count": 33,
   "metadata": {},
   "outputs": [],
   "source": [
    "n = int(0.9*len(data))\n",
    "train_data = data[:n]\n",
    "val_data = data[n:]"
   ]
  },
  {
   "cell_type": "code",
   "execution_count": 34,
   "metadata": {},
   "outputs": [],
   "source": [
    "block_size = 8\n"
   ]
  },
  {
   "cell_type": "code",
   "execution_count": 35,
   "metadata": {},
   "outputs": [
    {
     "name": "stdout",
     "output_type": "stream",
     "text": [
      "tensor([18]) tensor(47)\n",
      "tensor([18, 47]) tensor(56)\n",
      "tensor([18, 47, 56]) tensor(57)\n",
      "tensor([18, 47, 56, 57]) tensor(58)\n",
      "tensor([18, 47, 56, 57, 58]) tensor(1)\n",
      "tensor([18, 47, 56, 57, 58,  1]) tensor(15)\n",
      "tensor([18, 47, 56, 57, 58,  1, 15]) tensor(47)\n",
      "tensor([18, 47, 56, 57, 58,  1, 15, 47]) tensor(58)\n"
     ]
    }
   ],
   "source": [
    "x = train_data[:block_size]\n",
    "y = train_data[1:block_size+1]\n",
    "for t in range(block_size):\n",
    "    context = x[:t+1]\n",
    "    target = y[t]\n",
    "    print(context, target)"
   ]
  },
  {
   "cell_type": "code",
   "execution_count": 36,
   "metadata": {},
   "outputs": [
    {
     "name": "stdout",
     "output_type": "stream",
     "text": [
      "torch.Size([4, 8])\n",
      "torch.Size([4, 8])\n",
      "tensor([[41, 53, 52, 57, 59, 51, 43, 42],\n",
      "        [44,  1, 48, 53, 63,  0, 32, 46],\n",
      "        [47, 43, 44,  1, 46, 39, 58, 46],\n",
      "        [42,  1, 40, 43,  1, 46, 39, 52]])\n",
      "tensor([[53, 52, 57, 59, 51, 43, 42,  1],\n",
      "        [ 1, 48, 53, 63,  0, 32, 46, 39],\n",
      "        [43, 44,  1, 46, 39, 58, 46,  1],\n",
      "        [ 1, 40, 43,  1, 46, 39, 52, 45]])\n",
      "--------\n",
      "context: [41]: target 53\n",
      "context: [41, 53]: target 52\n",
      "context: [41, 53, 52]: target 57\n",
      "context: [41, 53, 52, 57]: target 59\n",
      "context: [41, 53, 52, 57, 59]: target 51\n",
      "context: [41, 53, 52, 57, 59, 51]: target 43\n",
      "context: [41, 53, 52, 57, 59, 51, 43]: target 42\n",
      "context: [41, 53, 52, 57, 59, 51, 43, 42]: target 1\n",
      "context: [44]: target 1\n",
      "context: [44, 1]: target 48\n",
      "context: [44, 1, 48]: target 53\n",
      "context: [44, 1, 48, 53]: target 63\n",
      "context: [44, 1, 48, 53, 63]: target 0\n",
      "context: [44, 1, 48, 53, 63, 0]: target 32\n",
      "context: [44, 1, 48, 53, 63, 0, 32]: target 46\n",
      "context: [44, 1, 48, 53, 63, 0, 32, 46]: target 39\n",
      "context: [47]: target 43\n",
      "context: [47, 43]: target 44\n",
      "context: [47, 43, 44]: target 1\n",
      "context: [47, 43, 44, 1]: target 46\n",
      "context: [47, 43, 44, 1, 46]: target 39\n",
      "context: [47, 43, 44, 1, 46, 39]: target 58\n",
      "context: [47, 43, 44, 1, 46, 39, 58]: target 46\n",
      "context: [47, 43, 44, 1, 46, 39, 58, 46]: target 1\n",
      "context: [42]: target 1\n",
      "context: [42, 1]: target 40\n",
      "context: [42, 1, 40]: target 43\n",
      "context: [42, 1, 40, 43]: target 1\n",
      "context: [42, 1, 40, 43, 1]: target 46\n",
      "context: [42, 1, 40, 43, 1, 46]: target 39\n",
      "context: [42, 1, 40, 43, 1, 46, 39]: target 52\n",
      "context: [42, 1, 40, 43, 1, 46, 39, 52]: target 45\n"
     ]
    }
   ],
   "source": [
    "torch.manual_seed(163173)\n",
    "batch_size = 4\n",
    "block_size = 8\n",
    "\n",
    "def get_batch(split):\n",
    "    data = train_data if split==\"train\" else val_data\n",
    "    ix = torch.randint(len(data)-block_size, (batch_size,))\n",
    "    x = torch.stack([data[i:block_size+i]for i in ix])\n",
    "    y = torch.stack([data[i+1:block_size+i+1] for i in ix])\n",
    "    return x, y \n",
    "\n",
    "xb, yb = get_batch(\"train\")\n",
    "print(xb.shape)\n",
    "print(yb.shape)\n",
    "print(xb)\n",
    "print(yb)\n",
    "\n",
    "print(\"--------\")\n",
    "for b in range(batch_size):\n",
    "    for t in range(block_size):\n",
    "        context = xb[b, :t+1]\n",
    "        target = yb[b, t]\n",
    "        print(f\"context: {context.tolist()}: target {target}\")\n"
   ]
  },
  {
   "cell_type": "code",
   "execution_count": 39,
   "metadata": {},
   "outputs": [
    {
     "name": "stdout",
     "output_type": "stream",
     "text": [
      "torch.Size([32, 65]) tensor(4.4245, grad_fn=<NllLossBackward0>)\n"
     ]
    }
   ],
   "source": [
    "import torch \n",
    "import torch.nn as nn \n",
    "from torch.nn import functional as F\n",
    "torch.manual_seed(163173)\n",
    "\n",
    "\n",
    "class BigramLanguageModel(nn.Module):\n",
    "    def __init__(self, vocab_size):\n",
    "        super().__init__()\n",
    "        self.tocken_embedding_table = nn.Embedding(vocab_size, vocab_size)\n",
    "        \n",
    "    def forward(self, idx, targets):\n",
    "        logits = self.tocken_embedding_table(idx)\n",
    "        B, T, C = logits.shape\n",
    "        logits = logits.view(B*T, C)\n",
    "        targets = targets.view(B*T)\n",
    "        loss = F.cross_entropy(logits, targets)\n",
    "        return logits, loss\n",
    "    \n",
    "\n",
    "m = BigramLanguageModel(vocab_size)\n",
    "logits, loss = m(xb, yb)\n",
    "print(logits.shape, loss)\n",
    "        "
   ]
  }
 ],
 "metadata": {
  "kernelspec": {
   "display_name": "ML",
   "language": "python",
   "name": "python3"
  },
  "language_info": {
   "codemirror_mode": {
    "name": "ipython",
    "version": 3
   },
   "file_extension": ".py",
   "mimetype": "text/x-python",
   "name": "python",
   "nbconvert_exporter": "python",
   "pygments_lexer": "ipython3",
   "version": "3.12.3"
  }
 },
 "nbformat": 4,
 "nbformat_minor": 2
}

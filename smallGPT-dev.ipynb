{
 "cells": [
  {
   "cell_type": "code",
   "execution_count": 1,
   "metadata": {},
   "outputs": [
    {
     "name": "stdout",
     "output_type": "stream",
     "text": [
      "\n",
      " !$&',-.3:;?ABCDEFGHIJKLMNOPQRSTUVWXYZabcdefghijklmnopqrstuvwxyz\n",
      "65\n",
      "[54, 53, 53, 56] poor\n"
     ]
    }
   ],
   "source": [
    "with open(\"input.txt\", 'r', encoding='utf-8') as f:\n",
    "    text = f.read()\n",
    "    \n",
    "chars = sorted(list(set(text)))\n",
    "vocab_size=len(chars)\n",
    "print(''.join(chars))\n",
    "print(vocab_size)\n",
    "\n",
    "itos = {i:char for i,char in enumerate(chars)}\n",
    "stoi = {char:i for i, char in enumerate(chars)}\n",
    "encode = lambda x: [stoi[char] for char in list(x)]\n",
    "decode = lambda x: ''.join([itos[num] for num in list(x)])\n",
    "\n",
    "print(encode('poor'), decode(encode(\"poor\")))"
   ]
  },
  {
   "cell_type": "code",
   "execution_count": 2,
   "metadata": {},
   "outputs": [
    {
     "name": "stdout",
     "output_type": "stream",
     "text": [
      "torch.Size([1115394]) torch.int64\n"
     ]
    }
   ],
   "source": [
    "import torch\n",
    "data = torch.tensor(encode(text), dtype=torch.long)\n",
    "print(data.shape, data.dtype)"
   ]
  },
  {
   "cell_type": "code",
   "execution_count": 3,
   "metadata": {},
   "outputs": [],
   "source": [
    "n = int(0.9*len(data))\n",
    "train_data = data[:n]\n",
    "val_data = data[n:]"
   ]
  },
  {
   "cell_type": "code",
   "execution_count": 4,
   "metadata": {},
   "outputs": [],
   "source": [
    "block_size = 8"
   ]
  },
  {
   "cell_type": "code",
   "execution_count": 5,
   "metadata": {},
   "outputs": [
    {
     "name": "stdout",
     "output_type": "stream",
     "text": [
      "[18] 47\n",
      "[18, 47] 56\n",
      "[18, 47, 56] 57\n",
      "[18, 47, 56, 57] 58\n",
      "[18, 47, 56, 57, 58] 1\n",
      "[18, 47, 56, 57, 58, 1] 15\n",
      "[18, 47, 56, 57, 58, 1, 15] 47\n",
      "[18, 47, 56, 57, 58, 1, 15, 47] 58\n"
     ]
    }
   ],
   "source": [
    "x = train_data[:block_size]\n",
    "y = train_data[1:block_size+1]\n",
    "for t in range(block_size):\n",
    "    context = x[:t+1]\n",
    "    target = y[t]\n",
    "    print(context.tolist(), target.item())"
   ]
  },
  {
   "cell_type": "code",
   "execution_count": 6,
   "metadata": {},
   "outputs": [
    {
     "name": "stdout",
     "output_type": "stream",
     "text": [
      "--------\n",
      "context: [41]: target 53\n",
      "context: [41, 53]: target 52\n",
      "context: [41, 53, 52]: target 57\n",
      "context: [41, 53, 52, 57]: target 59\n",
      "context: [41, 53, 52, 57, 59]: target 51\n",
      "context: [41, 53, 52, 57, 59, 51]: target 43\n",
      "context: [41, 53, 52, 57, 59, 51, 43]: target 42\n",
      "context: [41, 53, 52, 57, 59, 51, 43, 42]: target 1\n",
      "context: [44]: target 1\n",
      "context: [44, 1]: target 48\n",
      "context: [44, 1, 48]: target 53\n",
      "context: [44, 1, 48, 53]: target 63\n",
      "context: [44, 1, 48, 53, 63]: target 0\n",
      "context: [44, 1, 48, 53, 63, 0]: target 32\n",
      "context: [44, 1, 48, 53, 63, 0, 32]: target 46\n",
      "context: [44, 1, 48, 53, 63, 0, 32, 46]: target 39\n",
      "context: [47]: target 43\n",
      "context: [47, 43]: target 44\n",
      "context: [47, 43, 44]: target 1\n",
      "context: [47, 43, 44, 1]: target 46\n",
      "context: [47, 43, 44, 1, 46]: target 39\n",
      "context: [47, 43, 44, 1, 46, 39]: target 58\n",
      "context: [47, 43, 44, 1, 46, 39, 58]: target 46\n",
      "context: [47, 43, 44, 1, 46, 39, 58, 46]: target 1\n",
      "context: [42]: target 1\n",
      "context: [42, 1]: target 40\n",
      "context: [42, 1, 40]: target 43\n",
      "context: [42, 1, 40, 43]: target 1\n",
      "context: [42, 1, 40, 43, 1]: target 46\n",
      "context: [42, 1, 40, 43, 1, 46]: target 39\n",
      "context: [42, 1, 40, 43, 1, 46, 39]: target 52\n",
      "context: [42, 1, 40, 43, 1, 46, 39, 52]: target 45\n"
     ]
    }
   ],
   "source": [
    "torch.manual_seed(163173)\n",
    "batch_size = 4\n",
    "block_size = 8\n",
    "\n",
    "def get_batch(split):\n",
    "    data = train_data if split==\"train\" else val_data\n",
    "    ix = torch.randint(len(data)-block_size, (batch_size,))\n",
    "    x = torch.stack([data[i:block_size+i]for i in ix])\n",
    "    y = torch.stack([data[i+1:block_size+i+1] for i in ix])\n",
    "    return x, y \n",
    "\n",
    "xb, yb = get_batch(\"train\")\n",
    "\n",
    "print(\"--------\")\n",
    "for b in range(batch_size):\n",
    "    for t in range(block_size):\n",
    "        context = xb[b, :t+1]\n",
    "        target = yb[b, t]\n",
    "        print(f\"context: {context.tolist()}: target {target}\")\n"
   ]
  },
  {
   "cell_type": "code",
   "execution_count": 7,
   "metadata": {},
   "outputs": [
    {
     "name": "stdout",
     "output_type": "stream",
     "text": [
      "torch.Size([32, 65]) tensor(4.4245, grad_fn=<NllLossBackward0>)\n"
     ]
    }
   ],
   "source": [
    "import torch \n",
    "import torch.nn as nn \n",
    "from torch.nn import functional as F\n",
    "torch.manual_seed(163173)\n",
    "\n",
    "\n",
    "class BigramLanguageModel(nn.Module):\n",
    "    def __init__(self, vocab_size):\n",
    "        super().__init__()\n",
    "        self.token_embedding_table = nn.Embedding(vocab_size, vocab_size)\n",
    "        \n",
    "    def forward(self, idx, targets=None):\n",
    "        logits = self.token_embedding_table(idx)\n",
    "        \n",
    "        if targets is None:\n",
    "            loss = None\n",
    "        else:\n",
    "            B, T, C = logits.shape\n",
    "            logits = logits.view(B*T, C)\n",
    "            targets = targets.view(B*T)\n",
    "            loss = F.cross_entropy(logits, targets)\n",
    "        return logits, loss\n",
    "    \n",
    "    def generate(self, idx, max_new_tokens):\n",
    "        for _ in range(max_new_tokens):\n",
    "            logits, loss = self(idx)\n",
    "            logits = logits[:, -1, :]\n",
    "            probs = F.softmax(logits, dim=-1)\n",
    "            idx_next = torch.multinomial(probs, num_samples=1)\n",
    "            idx = torch.cat((idx, idx_next), dim=1)\n",
    "            \n",
    "        return idx\n",
    "    \n",
    "\n",
    "m = BigramLanguageModel(vocab_size)\n",
    "logits, loss = m(xb, yb)\n",
    "print(logits.shape, loss)\n",
    "\n",
    "        "
   ]
  },
  {
   "cell_type": "code",
   "execution_count": 8,
   "metadata": {},
   "outputs": [
    {
     "name": "stdout",
     "output_type": "stream",
     "text": [
      "\n",
      "hGr!Zl:ddi;V,RQKnz-\n",
      "FddddUyl;vqmmHICA,,awq3!;wBgv'Nsm--.q.dWnqVg;KMcTds-GMSkoG$d-Kq:s;Ku'ROg!ckKArEi?yK?NQrDwADcjk3Op$tehMCN-aJBcxJuMnp&G\n",
      "g!HeEkeniaaaprkofsiZvkvkJ\n",
      "g!;fa.?ebuIZykLDlGg!?MbuoawbfGGMWyb wd aXxoT;UCSbxpKYEWF\n",
      "Jv,e,cAPLZDj??JcmowB LZrKAQTbB-.N.qoTVw&oSa S!bApJGmA.&lClAY&$WDmV,J.qzF-gYVN.-\n"
     ]
    }
   ],
   "source": [
    "print(decode(m.generate(idx = torch.zeros((1,1), dtype=torch.long), max_new_tokens=300)[0].tolist()))"
   ]
  },
  {
   "cell_type": "code",
   "execution_count": 9,
   "metadata": {},
   "outputs": [],
   "source": [
    "optimizer = torch.optim.AdamW(m.parameters(), lr = 1e-3)"
   ]
  },
  {
   "cell_type": "code",
   "execution_count": 10,
   "metadata": {},
   "outputs": [
    {
     "name": "stdout",
     "output_type": "stream",
     "text": [
      "2.4307258129119873\n"
     ]
    }
   ],
   "source": [
    "batch_size = 32\n",
    "for steps in range(10000):\n",
    "    \n",
    "    xb, yb = get_batch(\"train\")\n",
    "    \n",
    "    logits, loss = m(xb, yb)\n",
    "    \n",
    "    optimizer.zero_grad(set_to_none=True)\n",
    "    loss.backward()\n",
    "    optimizer.step()\n",
    "    \n",
    "print(loss.item())"
   ]
  },
  {
   "cell_type": "markdown",
   "metadata": {},
   "source": [
    "# -----------------------------------------------------------------------------------"
   ]
  },
  {
   "cell_type": "code",
   "execution_count": 15,
   "metadata": {},
   "outputs": [],
   "source": [
    "B ,T ,C = 4 ,8 ,2\n",
    "x = torch.randn((B, T, C))"
   ]
  },
  {
   "cell_type": "code",
   "execution_count": 16,
   "metadata": {},
   "outputs": [],
   "source": [
    "xbow = torch.zeros((B, T, C))\n",
    "for b in range(B):\n",
    "    for t in range(T):\n",
    "        xprev = x[b,:t+1]\n",
    "        xbow[b ,t] = torch.mean(xprev, 0)"
   ]
  },
  {
   "cell_type": "code",
   "execution_count": null,
   "metadata": {},
   "outputs": [],
   "source": []
  }
 ],
 "metadata": {
  "kernelspec": {
   "display_name": "ML",
   "language": "python",
   "name": "python3"
  },
  "language_info": {
   "codemirror_mode": {
    "name": "ipython",
    "version": 3
   },
   "file_extension": ".py",
   "mimetype": "text/x-python",
   "name": "python",
   "nbconvert_exporter": "python",
   "pygments_lexer": "ipython3",
   "version": "3.12.3"
  }
 },
 "nbformat": 4,
 "nbformat_minor": 2
}
